{
 "cells": [
  {
   "cell_type": "markdown",
   "id": "85fe6a36",
   "metadata": {},
   "source": [
    "# 1. Integrácia dát (3b)\n",
    "\n",
    "- Integrácia datasetu - vhodne zakomponujte zvolené informácie o počasí.\n",
    "- Sampling – vytvorenie vzorky z datasetu (veľkosti napr. 10%) pri zachovaní rozloženia cieľového atribútu.\n",
    "- Rozdelenie datasetu na trénovaciu a testovaciu množinu (napr. v pomere 60/40)."
   ]
  },
  {
   "cell_type": "code",
   "execution_count": null,
   "id": "d71d6dd6",
   "metadata": {
    "vscode": {
     "languageId": "plaintext"
    }
   },
   "outputs": [],
   "source": [
    "from pyspark.sql import SparkSession\n",
    "\n",
    "spark = SparkSession.builder.appName(\"CarAccidents\").getOrCreate()\n",
    "\n",
    "# Read data\n",
    "accidents = spark.read.csv(\"../datalab/TSVD/dataset/CarAccidents/Accidents.csv\", header=True, inferSchema=True)\n",
    "vehicles = spark.read.csv(\"../datalab/TSVD/dataset/CarAccidents/Casualties.csv\", header=True, inferSchema=True)\n",
    "casualties = spark.read.csv(\"../datalab/TSVD/dataset/CarAccidents/Vehicles.csv\", header=True, inferSchema=True)\n",
    "\n",
    "# Join\n",
    "accidents_vehicles = accidents.join(vehicles, on=\"Accident_Index\", how=\"inner\")\n",
    "full_data = accidents_vehicles.join(casualties, on=\"Accident_Index\", how=\"inner\")"
   ]
  },
  {
   "cell_type": "code",
   "execution_count": null,
   "id": "73a1c7e2",
   "metadata": {
    "vscode": {
     "languageId": "plaintext"
    }
   },
   "outputs": [],
   "source": [
    "train_data, test_data = sampled_data.randomSplit([0.6, 0.4], seed=42)"
   ]
  },
  {
   "cell_type": "markdown",
   "id": "be152884",
   "metadata": {},
   "source": [
    "# 2. Predspracovanie (7b)\n",
    "\n",
    "- Transformácia nominálnych atribútov na numerické\n",
    "- Transformácia numerických atribútov na nominálne\n",
    "- Vypočítanie pomerového kritéria – informačného zisku voči cieľovému atribútu (klasifikačná úloha), pre nominálne atribúty\n",
    "- Vypočítanie štatistík pre numerické atribúty\n",
    "- Vytvorenie histogramov pre nominálne atribúty\n",
    "- Spracovanie chýbajúcich hodnôt (napr. ich nahradenie priemermi, atď.)"
   ]
  },
  {
   "cell_type": "code",
   "execution_count": null,
   "id": "6b79dd06",
   "metadata": {
    "vscode": {
     "languageId": "plaintext"
    }
   },
   "outputs": [],
   "source": []
  },
  {
   "cell_type": "markdown",
   "id": "deae4f76",
   "metadata": {},
   "source": [
    "# 3. Modelovanie - Vytvorenie popisných modelov (3b):\n",
    "\n",
    "- Vytvorte k-means clustering model\n",
    "- Pomocou vytvoreného modelu detekujte anomálie\n",
    "# 4. Modelovanie - Vytvorenie klasifikačných modelov typu (aspoň jeden model každého typu)(4b):\n",
    "\n",
    "- Decision tree model\n",
    "- Linear SVM\n",
    "- Naive Bayes model\n",
    "- Ensembles of decision trees (Random Forests, Gradient-boosted trees)"
   ]
  },
  {
   "cell_type": "code",
   "execution_count": null,
   "id": "561b7af8",
   "metadata": {
    "vscode": {
     "languageId": "plaintext"
    }
   },
   "outputs": [],
   "source": []
  },
  {
   "cell_type": "markdown",
   "id": "c2754253",
   "metadata": {},
   "source": [
    "# 5. Vyhodnotenie (3b)\n",
    "\n",
    "- Natrénovanie klasifikačného modelu na trénovacej množine a jeho evaluáciu na testovacej množine.\n",
    "- Klasifikačný model vyhodnocujte použitím kontigenčnej tabuľky a vypočítaním metrík presnosti, návratnosti, F1 a MCC (Matthews Correlation Coefficient)."
   ]
  },
  {
   "cell_type": "code",
   "execution_count": null,
   "id": "b561e288",
   "metadata": {
    "vscode": {
     "languageId": "plaintext"
    }
   },
   "outputs": [],
   "source": []
  }
 ],
 "metadata": {
  "language_info": {
   "name": "python"
  }
 },
 "nbformat": 4,
 "nbformat_minor": 5
}
